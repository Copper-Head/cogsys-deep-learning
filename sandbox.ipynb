{
 "cells": [
  {
   "cell_type": "code",
   "execution_count": 2,
   "metadata": {
    "collapsed": false
   },
   "outputs": [],
   "source": [
    "%autoreload 2\n",
    "\n",
    "# to make life easier, import all the needed stuff from workspace\n",
    "# With autoreload enabled this also has the added benefit of making imported functionality\n",
    "# available to the notebook without the need to rerun the importing cell.\n",
    "from workspace import *"
   ]
  },
  {
   "cell_type": "markdown",
   "metadata": {},
   "source": [
    "## Loading Model"
   ]
  },
  {
   "cell_type": "code",
   "execution_count": 3,
   "metadata": {
    "collapsed": true
   },
   "outputs": [],
   "source": [
    "from zipfile import ZipFile"
   ]
  },
  {
   "cell_type": "code",
   "execution_count": 8,
   "metadata": {
    "collapsed": false
   },
   "outputs": [],
   "source": [
    "with open(\"char-rnn-200.tar\", 'rb') as src:\n",
    "    main_loop = load(src)"
   ]
  },
  {
   "cell_type": "code",
   "execution_count": 20,
   "metadata": {
    "collapsed": false,
    "scrolled": true
   },
   "outputs": [
    {
     "data": {
      "text/plain": [
       "defaultdict(int,\n",
       "            {('after_training',): 0,\n",
       "             ('after_training', 'Checkpoint'): 0,\n",
       "             ('after_training', 'DataStreamMonitoring'): 4.118200013181195e-05,\n",
       "             ('after_training', 'FinishAfter'): 2.182299976993818e-05,\n",
       "             ('after_training', 'Printing'): 0.0005432170000858605,\n",
       "             ('before_training',): 0.0001758740000070702,\n",
       "             ('before_training', 'Checkpoint'): 2.6424000012070792e-05,\n",
       "             ('before_training',\n",
       "              'DataStreamMonitoring'): 4.230599999743845e-05,\n",
       "             ('before_training', 'FinishAfter'): 1.5802999996594735e-05,\n",
       "             ('before_training', 'Printing'): 5.913699999382516e-05,\n",
       "             ('initialization',): 12.519453603999992,\n",
       "             ('training',): 5399.65846744,\n",
       "             ('training', 'after_epoch'): 328.7014877679999,\n",
       "             ('training', 'after_epoch', 'Checkpoint'): 0.00019791700060523,\n",
       "             ('training',\n",
       "              'after_epoch',\n",
       "              'DataStreamMonitoring'): 328.69686887100033,\n",
       "             ('training',\n",
       "              'after_epoch',\n",
       "              'FinishAfter'): 0.00023483199993279413,\n",
       "             ('training', 'after_epoch', 'Printing'): 0.0039027599998462392,\n",
       "             ('training', 'before_epoch'): 53.11035492600064,\n",
       "             ('training',\n",
       "              'before_epoch',\n",
       "              'Checkpoint'): 0.00018916799987778177,\n",
       "             ('training',\n",
       "              'before_epoch',\n",
       "              'DataStreamMonitoring'): 53.10889230800095,\n",
       "             ('training',\n",
       "              'before_epoch',\n",
       "              'FinishAfter'): 0.00010663299957514027,\n",
       "             ('training', 'before_epoch', 'Printing'): 0.0009676560000286827,\n",
       "             ('training', 'epoch'): 5017.845672419999,\n",
       "             ('training', 'epoch', 'after_batch'): 57.47655860902859,\n",
       "             ('training',\n",
       "              'epoch',\n",
       "              'after_batch',\n",
       "              'Checkpoint'): 57.07437302599712,\n",
       "             ('training',\n",
       "              'epoch',\n",
       "              'after_batch',\n",
       "              'DataStreamMonitoring'): 0.11911356801181228,\n",
       "             ('training',\n",
       "              'epoch',\n",
       "              'after_batch',\n",
       "              'FinishAfter'): 0.043368901008420835,\n",
       "             ('training',\n",
       "              'epoch',\n",
       "              'after_batch',\n",
       "              'Printing'): 0.16034961599800113,\n",
       "             ('training', 'epoch', 'before_batch'): 0.41696648099394906,\n",
       "             ('training',\n",
       "              'epoch',\n",
       "              'before_batch',\n",
       "              'Checkpoint'): 0.06858534100032898,\n",
       "             ('training',\n",
       "              'epoch',\n",
       "              'before_batch',\n",
       "              'DataStreamMonitoring'): 0.07985220100096058,\n",
       "             ('training',\n",
       "              'epoch',\n",
       "              'before_batch',\n",
       "              'FinishAfter'): 0.04068121399637903,\n",
       "             ('training',\n",
       "              'epoch',\n",
       "              'before_batch',\n",
       "              'Printing'): 0.15726627699314122,\n",
       "             ('training', 'epoch', 'read_data'): 2.253004564981211,\n",
       "             ('training', 'epoch', 'train'): 4957.513394170987})"
      ]
     },
     "execution_count": 20,
     "metadata": {},
     "output_type": "execute_result"
    }
   ],
   "source": [
    "main_loop.profile.total"
   ]
  },
  {
   "cell_type": "code",
   "execution_count": null,
   "metadata": {
    "collapsed": true
   },
   "outputs": [],
   "source": []
  },
  {
   "cell_type": "markdown",
   "metadata": {},
   "source": [
    "## Playing with Main Loops"
   ]
  },
  {
   "cell_type": "code",
   "execution_count": 11,
   "metadata": {
    "collapsed": false
   },
   "outputs": [],
   "source": [
    "from word_embeddings import main_loop"
   ]
  },
  {
   "cell_type": "code",
   "execution_count": 3,
   "metadata": {
    "collapsed": true
   },
   "outputs": [
    {
     "name": "stdout",
     "output_type": "stream",
     "text": [
      "\n",
      "-------------------------------------------------------------------------------\n",
      "BEFORE FIRST EPOCH\n",
      "-------------------------------------------------------------------------------\n",
      "Training status:\n",
      "\t batch_interrupt_received: False\n",
      "\t epoch_interrupt_received: False\n",
      "\t epoch_started: True\n",
      "\t epochs_done: 0\n",
      "\t iterations_done: 0\n",
      "\t received_first_batch: False\n",
      "\t resumed_from: None\n",
      "\t training_started: True\n",
      "Log records from the iteration 0:\n",
      "\t test_simple_entropy_apply_cost: 5.717057105039682\n",
      "\n",
      "\n",
      "-------------------------------------------------------------------------------\n",
      "AFTER ANOTHER EPOCH\n",
      "-------------------------------------------------------------------------------\n",
      "Training status:\n",
      "\t batch_interrupt_received: False\n",
      "\t epoch_interrupt_received: False\n",
      "\t epoch_started: False\n",
      "\t epochs_done: 1\n",
      "\t iterations_done: 23\n",
      "\t received_first_batch: True\n",
      "\t resumed_from: None\n",
      "\t training_started: True\n",
      "Log records from the iteration 23:\n",
      "\t test_simple_entropy_apply_cost: 5.430238805431428\n",
      "\t training_finish_requested: True\n",
      "\n",
      "\n",
      "-------------------------------------------------------------------------------\n",
      "TRAINING HAS BEEN FINISHED:\n",
      "-------------------------------------------------------------------------------\n",
      "Training status:\n",
      "\t batch_interrupt_received: False\n",
      "\t epoch_interrupt_received: False\n",
      "\t epoch_started: False\n",
      "\t epochs_done: 1\n",
      "\t iterations_done: 23\n",
      "\t received_first_batch: True\n",
      "\t resumed_from: None\n",
      "\t training_started: True\n",
      "Log records from the iteration 23:\n",
      "\t test_simple_entropy_apply_cost: 5.430238805431428\n",
      "\t training_finish_requested: True\n",
      "\t training_finished: True\n",
      "\n"
     ]
    }
   ],
   "source": [
    "main_loop.run()"
   ]
  }
 ],
 "metadata": {
  "kernelspec": {
   "display_name": "Python 3",
   "language": "python",
   "name": "python3"
  },
  "language_info": {
   "codemirror_mode": {
    "name": "ipython",
    "version": 3
   },
   "file_extension": ".py",
   "mimetype": "text/x-python",
   "name": "python",
   "nbconvert_exporter": "python",
   "pygments_lexer": "ipython3",
   "version": "3.5.1"
  }
 },
 "nbformat": 4,
 "nbformat_minor": 0
}
